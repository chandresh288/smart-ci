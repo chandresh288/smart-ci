{
 "cells": [
  {
   "cell_type": "markdown",
   "id": "a530baeb",
   "metadata": {},
   "source": [
    "# Surrogate Model Training & Token-Level Attribution\n",
    "\n",
    "This notebook demonstrates how to train an **interpretable surrogate model** on GPT-4o–generated sentiment labels and use **SHAP** for token-level attribution.\n"
   ]
  },
  {
   "cell_type": "markdown",
   "id": "d576912f",
   "metadata": {},
   "source": [
    "## 1. Surrogate Model Training\n",
    "\n",
    "**Why a surrogate?**  \n",
    "- Approximates the LLM’s decision boundary in an interpretable form.\n",
    "\n",
    "**Steps:**  \n",
    "1. Load GPT-4o sentiment labels from `dataset_67.json`.  \n",
    "2. Use TF-IDF to vectorize transcript chunks.  \n",
    "3. Train a Logistic Regression classifier on these labels.\n"
   ]
  },
  {
   "cell_type": "code",
   "execution_count": 82,
   "id": "0e36c26a",
   "metadata": {},
   "outputs": [
    {
     "name": "stdout",
     "output_type": "stream",
     "text": [
      "Total chunks: 335\n"
     ]
    },
    {
     "name": "stderr",
     "output_type": "stream",
     "text": [
      "[nltk_data] Downloading package punkt to /root/nltk_data...\n",
      "[nltk_data]   Package punkt is already up-to-date!\n"
     ]
    },
    {
     "data": {
      "text/html": [
       "<div>\n",
       "<style scoped>\n",
       "    .dataframe tbody tr th:only-of-type {\n",
       "        vertical-align: middle;\n",
       "    }\n",
       "\n",
       "    .dataframe tbody tr th {\n",
       "        vertical-align: top;\n",
       "    }\n",
       "\n",
       "    .dataframe thead th {\n",
       "        text-align: right;\n",
       "    }\n",
       "</style>\n",
       "<table border=\"1\" class=\"dataframe\">\n",
       "  <thead>\n",
       "    <tr style=\"text-align: right;\">\n",
       "      <th></th>\n",
       "      <th>chunk</th>\n",
       "      <th>label</th>\n",
       "    </tr>\n",
       "  </thead>\n",
       "  <tbody>\n",
       "    <tr>\n",
       "      <th>0</th>\n",
       "      <td>The call involves a brief exchange where one p...</td>\n",
       "      <td>0</td>\n",
       "    </tr>\n",
       "    <tr>\n",
       "      <th>1</th>\n",
       "      <td>The call involves a discussion about a laptop ...</td>\n",
       "      <td>0</td>\n",
       "    </tr>\n",
       "    <tr>\n",
       "      <th>2</th>\n",
       "      <td>The call involves a request for the customer t...</td>\n",
       "      <td>0</td>\n",
       "    </tr>\n",
       "    <tr>\n",
       "      <th>3</th>\n",
       "      <td>The call discusses the setup and configuration...</td>\n",
       "      <td>0</td>\n",
       "    </tr>\n",
       "    <tr>\n",
       "      <th>4</th>\n",
       "      <td>The call involves a customer service interacti...</td>\n",
       "      <td>0</td>\n",
       "    </tr>\n",
       "  </tbody>\n",
       "</table>\n",
       "</div>"
      ],
      "text/plain": [
       "                                               chunk  label\n",
       "0  The call involves a brief exchange where one p...      0\n",
       "1  The call involves a discussion about a laptop ...      0\n",
       "2  The call involves a request for the customer t...      0\n",
       "3  The call discusses the setup and configuration...      0\n",
       "4  The call involves a customer service interacti...      0"
      ]
     },
     "execution_count": 82,
     "metadata": {},
     "output_type": "execute_result"
    }
   ],
   "source": [
    "import json\n",
    "import nltk\n",
    "from nltk.tokenize import word_tokenize\n",
    "import pandas as pd\n",
    "\n",
    "nltk.download('punkt')\n",
    "\n",
    "# Load dataset\n",
    "with open('dataset_67.json') as f:\n",
    "    data = json.load(f)\n",
    "\n",
    "# Map sentiments to numeric labels\n",
    "label_map = dict(zip(pd.DataFrame(data)['sentiment'].apply(lambda x: x.lower()).unique(),range(len(pd.DataFrame(data)['sentiment'].unique()))))\n",
    "\n",
    "# Chunking function\n",
    "def chunk_text(text, chunk_size=200, overlap=50):\n",
    "    tokens = word_tokenize(text)\n",
    "    chunks = []\n",
    "    start = 0\n",
    "    while start < len(tokens):\n",
    "        end = min(start + chunk_size, len(tokens))\n",
    "        chunks.append(' '.join(tokens[start:end]))\n",
    "        if end == len(tokens):\n",
    "            break\n",
    "        start += chunk_size - overlap\n",
    "    return chunks\n",
    "\n",
    "# Prepare DataFrame of chunks\n",
    "rows = []\n",
    "for entry in data:\n",
    "    sentiment = entry.get('sentiment', 'neutral').lower()\n",
    "    label = label_map.get(sentiment, 1)\n",
    "    transcript = entry.get('summary', '')  # use summary as proxy\n",
    "    for chunk in chunk_text(transcript):\n",
    "        rows.append({'chunk': chunk, 'label': label})\n",
    "\n",
    "df_chunks = pd.DataFrame(rows*5)\n",
    "print(f\"Total chunks: {len(df_chunks)}\")\n",
    "df_chunks.head()"
   ]
  },
  {
   "cell_type": "markdown",
   "id": "63cd8146",
   "metadata": {},
   "source": [
    "### Vectorize and Random Forest Classification."
   ]
  },
  {
   "cell_type": "code",
   "execution_count": 83,
   "id": "6b27d5c2",
   "metadata": {},
   "outputs": [
    {
     "name": "stdout",
     "output_type": "stream",
     "text": [
      "Training complete.\n",
      "Test accuracy: 0.9333333333333333\n"
     ]
    }
   ],
   "source": [
    "import pandas as pd\n",
    "from sklearn.utils import resample\n",
    "from sklearn.feature_extraction.text import TfidfVectorizer\n",
    "from sklearn.ensemble import RandomForestClassifier\n",
    "from sklearn.model_selection import train_test_split\n",
    "\n",
    "# 1. Balance the dataframe: downsample each label to the size of the smallest class\n",
    "min_count = df_chunks['label'].value_counts().min()\n",
    "balanced_df = pd.concat([\n",
    "    df_chunks[df_chunks['label']==label].sample(n=min_count, random_state=42)\n",
    "    for label in df_chunks['label'].unique()\n",
    "])\n",
    "\n",
    "# Optional: Shuffle the balanced dataframe\n",
    "balanced_df = balanced_df.sample(frac=1, random_state=42).reset_index(drop=True)\n",
    "\n",
    "# 2. Split data\n",
    "X_train, X_test, y_train, y_test = train_test_split(\n",
    "    balanced_df['chunk'], balanced_df['label'], test_size=0.5, random_state=42, stratify=balanced_df['label']\n",
    ")\n",
    "\n",
    "# 3. Vectorize\n",
    "tfidf = TfidfVectorizer(max_features=2000)\n",
    "X_train_tfidf = tfidf.fit_transform(X_train)\n",
    "X_test_tfidf = tfidf.transform(X_test)\n",
    "\n",
    "# 4. Convert sparse matrix to dense format (required by RandomForest)\n",
    "X_train_dense = X_train_tfidf.toarray()\n",
    "X_test_dense = X_test_tfidf.toarray()\n",
    "\n",
    "# 5. Train Random Forest classifier\n",
    "surrogate = RandomForestClassifier(n_estimators=100, random_state=42)\n",
    "surrogate.fit(X_train_dense, y_train)\n",
    "\n",
    "# 6. Evaluate\n",
    "print(\"Training complete.\")\n",
    "print(\"Test accuracy:\", surrogate.score(X_test_dense, y_test))"
   ]
  },
  {
   "cell_type": "markdown",
   "id": "ee9d06e3",
   "metadata": {},
   "source": [
    "## 2. Token-Level Attribution with SHAP\n",
    "\n",
    "For each transcript chunk, SHAP computes a contribution score per token:\n",
    "\n",
    "- **Positive scores** push the prediction toward a class (e.g., 'angry' tokens → negative sentiment).\n",
    "- **Negative scores** pull the prediction away from that class.\n"
   ]
  },
  {
   "cell_type": "code",
   "execution_count": 84,
   "id": "f706ca18",
   "metadata": {},
   "outputs": [
    {
     "data": {
      "text/plain": [
       "array([0, 1, 1, 5, 5, 2, 2, 1, 0, 3, 5, 4, 0, 3, 4])"
      ]
     },
     "execution_count": 84,
     "metadata": {},
     "output_type": "execute_result"
    }
   ],
   "source": [
    "surrogate.predict_proba(X_train_tfidf).argmax(axis=-1)"
   ]
  },
  {
   "cell_type": "code",
   "execution_count": 85,
   "id": "d767a302",
   "metadata": {},
   "outputs": [
    {
     "data": {
      "text/plain": [
       "label\n",
       "0    3\n",
       "1    3\n",
       "5    3\n",
       "2    2\n",
       "3    2\n",
       "4    2\n",
       "Name: count, dtype: int64"
      ]
     },
     "execution_count": 85,
     "metadata": {},
     "output_type": "execute_result"
    }
   ],
   "source": [
    "y_train.value_counts()"
   ]
  },
  {
   "cell_type": "code",
   "execution_count": 86,
   "id": "5580a05b",
   "metadata": {},
   "outputs": [
    {
     "data": {
      "text/plain": [
       "{'neutral': 0,\n",
       " 'frustrated': 1,\n",
       " 'incomprehensible': 2,\n",
       " 'inquisitive': 3,\n",
       " 'frustrated but cooperative': 4,\n",
       " 'confused': 5}"
      ]
     },
     "execution_count": 86,
     "metadata": {},
     "output_type": "execute_result"
    }
   ],
   "source": [
    "label_map"
   ]
  },
  {
   "cell_type": "code",
   "execution_count": 87,
   "id": "b9c7a89b",
   "metadata": {},
   "outputs": [
    {
     "data": {
      "text/plain": [
       "<Figure size 640x480 with 0 Axes>"
      ]
     },
     "metadata": {},
     "output_type": "display_data"
    },
    {
     "data": {
      "image/png": "[encoded data removed]",
      "text/plain": [
       "<Figure size 1150x660 with 1 Axes>"
      ]
     },
     "metadata": {},
     "output_type": "display_data"
    }
   ],
   "source": [
    "import shap\n",
    "import numpy as np\n",
    "import matplotlib.pyplot as plt\n",
    "\n",
    "# Convert sparse TF-IDF to dense float32 array\n",
    "X_test_dense = X_test_tfidf[:30].toarray().astype(np.float32)\n",
    "\n",
    "# Initialize SHAP explainer for tree-based models\n",
    "explainer = shap.TreeExplainer(surrogate)\n",
    "\n",
    "# Get SHAP values\n",
    "shap_values = explainer.shap_values(X_test_dense)\n",
    "\n",
    "# Get feature (phrase) names from the TF-IDF vectorizer\n",
    "feature_names = tfidf.get_feature_names_out()\n",
    "\n",
    "# Plot summary of SHAP values\n",
    "shap.summary_plot(shap_values, X_test_dense, feature_names=feature_names)"
   ]
  },
  {
   "cell_type": "markdown",
   "id": "30b7838b",
   "metadata": {},
   "source": [
    "## 3. Aggregating Shapley Values\n",
    "\n",
    "1. The surrogate model embeds each transcript chunk.  \n",
    "2. `shap.TreeExplainer` samples coalitions of tokens.  \n",
    "3. Aggregated Shapley values highlight key phrases influencing sentiment predictions.  \n"
   ]
  },
  {
   "cell_type": "code",
   "execution_count": 88,
   "id": "499e6acb",
   "metadata": {},
   "outputs": [
    {
     "name": "stdout",
     "output_type": "stream",
     "text": [
      "\n",
      "Sample neutral:\n",
      "  about: 0.0009\n",
      "  addressing: -0.0009\n",
      "  adjustments: 0.0000\n",
      "  advice: 0.0000\n",
      "  advised: 0.0000\n",
      "  also: 0.0000\n",
      "\n",
      "Sample frustrated:\n",
      "  about: 0.0000\n",
      "  addressing: 0.0000\n",
      "  adjustments: 0.0000\n",
      "  advice: 0.0000\n",
      "  advised: 0.0000\n",
      "  also: 0.0000\n",
      "\n",
      "Sample incomprehensible:\n",
      "  about: 0.0000\n",
      "  addressing: 0.0000\n",
      "  adjustments: 0.0000\n",
      "  advice: 0.0000\n",
      "  advised: 0.0000\n",
      "  also: 0.0000\n",
      "\n",
      "Sample inquisitive:\n",
      "  advice: -0.0102\n",
      "  addressing: 0.0040\n",
      "  about: 0.0030\n",
      "  adjustments: 0.0020\n",
      "  also: 0.0007\n",
      "  advised: 0.0005\n",
      "\n",
      "Sample frustrated but cooperative:\n",
      "  addressing: -0.0010\n",
      "  adjustments: 0.0007\n",
      "  about: 0.0004\n",
      "  advice: 0.0000\n",
      "  advised: 0.0000\n",
      "  also: 0.0000\n"
     ]
    }
   ],
   "source": [
    "import pandas as pd\n",
    "\n",
    "# Choose the class index (e.g., 1 for a binary classifier). If classifier is binary, shap_values is a list with two elements.\n",
    "class_index = 1 if isinstance(shap_values, list) else 0\n",
    "\n",
    "# Show top SHAP values per sample\n",
    "for i in range(5):  # Show top phrases for 5 test samples\n",
    "    print(f\"\\nSample {list(label_map.keys())[i]}:\")\n",
    "    shap_array = shap_values[class_index][i]  # Shape: (n_features,)\n",
    "    \n",
    "    # Pair feature names with their SHAP values\n",
    "    shap_dict = dict(zip(feature_names, shap_array))\n",
    "\n",
    "    # Sort to get most impactful phrases\n",
    "    top_phrases = sorted(shap_dict.items(), key=lambda x: abs(x[1]), reverse=True)[:10]\n",
    "    \n",
    "    for phrase, val in top_phrases:\n",
    "        print(f\"  {phrase}: {val:.4f}\")"
   ]
  },
  {
   "cell_type": "code",
   "execution_count": null,
   "id": "0a8d1314",
   "metadata": {},
   "outputs": [],
   "source": []
  }
 ],
 "metadata": {
  "kernelspec": {
   "display_name": "Python 3 (ipykernel)",
   "language": "python",
   "name": "python3"
  },
  "language_info": {
   "codemirror_mode": {
    "name": "ipython",
    "version": 3
   },
   "file_extension": ".py",
   "mimetype": "text/x-python",
   "name": "python",
   "nbconvert_exporter": "python",
   "pygments_lexer": "ipython3",
   "version": "3.10.12"
  }
 },
 "nbformat": 4,
 "nbformat_minor": 5
}
