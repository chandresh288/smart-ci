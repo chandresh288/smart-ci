{
  "nbformat": 4,
  "nbformat_minor": 0,
  "metadata": {
    "colab": {
      "provenance": [],
      "gpuType": "T4"
    },
    "kernelspec": {
      "name": "python3",
      "display_name": "Python 3"
    },
    "language_info": {
      "name": "python"
    },
    "accelerator": "GPU"
  },
  "cells": [
    {
      "cell_type": "markdown",
      "source": [
        "# RAG-Based Topic Extraction\n",
        "\n",
        "This notebook implements a Retrieval-Augmented Generation (RAG) pipeline for extracting topics from call transcripts using Whisper, SBERT embeddings, and Annoy for vector search."
      ],
      "metadata": {
        "id": "9NpxCuF54Zpm"
      }
    },
    {
      "cell_type": "markdown",
      "source": [
        "## Phase 1: Data Preparation"
      ],
      "metadata": {
        "id": "uzl_ow0Y4fyv"
      }
    },
    {
      "cell_type": "markdown",
      "source": [
        "### 1. Transcription\n",
        "Convert raw audio files into text transcripts using Whisper ASR."
      ],
      "metadata": {
        "id": "ugKJrapI4hP8"
      }
    },
    {
      "cell_type": "code",
      "execution_count": 1,
      "metadata": {
        "colab": {
          "base_uri": "https://localhost:8080/"
        },
        "id": "U4c0ffp2wG5v",
        "outputId": "3726af12-d63a-4e1f-b588-c9251766223b"
      },
      "outputs": [
        {
          "output_type": "stream",
          "name": "stdout",
          "text": [
            "Requirement already satisfied: openai-whisper in /usr/local/lib/python3.11/dist-packages (20240930)\n",
            "Requirement already satisfied: numba in /usr/local/lib/python3.11/dist-packages (from openai-whisper) (0.60.0)\n",
            "Requirement already satisfied: numpy in /usr/local/lib/python3.11/dist-packages (from openai-whisper) (2.0.2)\n",
            "Requirement already satisfied: torch in /usr/local/lib/python3.11/dist-packages (from openai-whisper) (2.6.0+cu124)\n",
            "Requirement already satisfied: tqdm in /usr/local/lib/python3.11/dist-packages (from openai-whisper) (4.67.1)\n",
            "Requirement already satisfied: more-itertools in /usr/local/lib/python3.11/dist-packages (from openai-whisper) (10.7.0)\n",
            "Requirement already satisfied: tiktoken in /usr/local/lib/python3.11/dist-packages (from openai-whisper) (0.9.0)\n",
            "Requirement already satisfied: triton>=2.0.0 in /usr/local/lib/python3.11/dist-packages (from openai-whisper) (3.2.0)\n",
            "Requirement already satisfied: llvmlite<0.44,>=0.43.0dev0 in /usr/local/lib/python3.11/dist-packages (from numba->openai-whisper) (0.43.0)\n",
            "Requirement already satisfied: regex>=2022.1.18 in /usr/local/lib/python3.11/dist-packages (from tiktoken->openai-whisper) (2024.11.6)\n",
            "Requirement already satisfied: requests>=2.26.0 in /usr/local/lib/python3.11/dist-packages (from tiktoken->openai-whisper) (2.32.3)\n",
            "Requirement already satisfied: filelock in /usr/local/lib/python3.11/dist-packages (from torch->openai-whisper) (3.18.0)\n",
            "Requirement already satisfied: typing-extensions>=4.10.0 in /usr/local/lib/python3.11/dist-packages (from torch->openai-whisper) (4.13.2)\n",
            "Requirement already satisfied: networkx in /usr/local/lib/python3.11/dist-packages (from torch->openai-whisper) (3.4.2)\n",
            "Requirement already satisfied: jinja2 in /usr/local/lib/python3.11/dist-packages (from torch->openai-whisper) (3.1.6)\n",
            "Requirement already satisfied: fsspec in /usr/local/lib/python3.11/dist-packages (from torch->openai-whisper) (2025.3.2)\n",
            "Requirement already satisfied: nvidia-cuda-nvrtc-cu12==12.4.127 in /usr/local/lib/python3.11/dist-packages (from torch->openai-whisper) (12.4.127)\n",
            "Requirement already satisfied: nvidia-cuda-runtime-cu12==12.4.127 in /usr/local/lib/python3.11/dist-packages (from torch->openai-whisper) (12.4.127)\n",
            "Requirement already satisfied: nvidia-cuda-cupti-cu12==12.4.127 in /usr/local/lib/python3.11/dist-packages (from torch->openai-whisper) (12.4.127)\n",
            "Requirement already satisfied: nvidia-cudnn-cu12==9.1.0.70 in /usr/local/lib/python3.11/dist-packages (from torch->openai-whisper) (9.1.0.70)\n",
            "Requirement already satisfied: nvidia-cublas-cu12==12.4.5.8 in /usr/local/lib/python3.11/dist-packages (from torch->openai-whisper) (12.4.5.8)\n",
            "Requirement already satisfied: nvidia-cufft-cu12==11.2.1.3 in /usr/local/lib/python3.11/dist-packages (from torch->openai-whisper) (11.2.1.3)\n",
            "Requirement already satisfied: nvidia-curand-cu12==10.3.5.147 in /usr/local/lib/python3.11/dist-packages (from torch->openai-whisper) (10.3.5.147)\n",
            "Requirement already satisfied: nvidia-cusolver-cu12==11.6.1.9 in /usr/local/lib/python3.11/dist-packages (from torch->openai-whisper) (11.6.1.9)\n",
            "Requirement already satisfied: nvidia-cusparse-cu12==12.3.1.170 in /usr/local/lib/python3.11/dist-packages (from torch->openai-whisper) (12.3.1.170)\n",
            "Requirement already satisfied: nvidia-cusparselt-cu12==0.6.2 in /usr/local/lib/python3.11/dist-packages (from torch->openai-whisper) (0.6.2)\n",
            "Requirement already satisfied: nvidia-nccl-cu12==2.21.5 in /usr/local/lib/python3.11/dist-packages (from torch->openai-whisper) (2.21.5)\n",
            "Requirement already satisfied: nvidia-nvtx-cu12==12.4.127 in /usr/local/lib/python3.11/dist-packages (from torch->openai-whisper) (12.4.127)\n",
            "Requirement already satisfied: nvidia-nvjitlink-cu12==12.4.127 in /usr/local/lib/python3.11/dist-packages (from torch->openai-whisper) (12.4.127)\n",
            "Requirement already satisfied: sympy==1.13.1 in /usr/local/lib/python3.11/dist-packages (from torch->openai-whisper) (1.13.1)\n",
            "Requirement already satisfied: mpmath<1.4,>=1.1.0 in /usr/local/lib/python3.11/dist-packages (from sympy==1.13.1->torch->openai-whisper) (1.3.0)\n",
            "Requirement already satisfied: charset-normalizer<4,>=2 in /usr/local/lib/python3.11/dist-packages (from requests>=2.26.0->tiktoken->openai-whisper) (3.4.2)\n",
            "Requirement already satisfied: idna<4,>=2.5 in /usr/local/lib/python3.11/dist-packages (from requests>=2.26.0->tiktoken->openai-whisper) (3.10)\n",
            "Requirement already satisfied: urllib3<3,>=1.21.1 in /usr/local/lib/python3.11/dist-packages (from requests>=2.26.0->tiktoken->openai-whisper) (2.4.0)\n",
            "Requirement already satisfied: certifi>=2017.4.17 in /usr/local/lib/python3.11/dist-packages (from requests>=2.26.0->tiktoken->openai-whisper) (2025.4.26)\n",
            "Requirement already satisfied: MarkupSafe>=2.0 in /usr/local/lib/python3.11/dist-packages (from jinja2->torch->openai-whisper) (3.0.2)\n"
          ]
        }
      ],
      "source": [
        "!pip install openai-whisper"
      ]
    },
    {
      "cell_type": "code",
      "source": [
        "import whisper\n",
        "from pathlib import Path\n",
        "\n",
        "# Load Whisper model\n",
        "model = whisper.load_model(\"medium\")\n",
        "\n",
        "def transcribe_audio(audio_path: str) -> str:\n",
        "    result = model.transcribe(audio_path)\n",
        "    return result[\"text\"]\n",
        "\n",
        "# Example usage\n",
        "audio_file = \"sample_data/34712515_09994039074_20250116144348_out.mp3\"\n",
        "transcript = transcribe_audio(audio_file)\n",
        "print(transcript[:500])  # preview first 500 characters"
      ],
      "metadata": {
        "colab": {
          "base_uri": "https://localhost:8080/"
        },
        "id": "1c26Ro-OxBcQ",
        "outputId": "db0f814e-5d39-4a1e-a812-8671dd639d84"
      },
      "execution_count": 2,
      "outputs": [
        {
          "output_type": "stream",
          "name": "stdout",
          "text": [
            " Hello, who is that? Sir, check your WhatsApp. I have sent you the high message on your WhatsApp, sir. Okay, okay. Okay, send me the model number and... Okay, sir? Okay, sir. Okay, sir. Okay.\n"
          ]
        }
      ]
    },
    {
      "cell_type": "markdown",
      "source": [
        "### 2. Chunking\n",
        "Split each transcript into overlapping passages (~200 tokens each) to preserve context."
      ],
      "metadata": {
        "id": "G6e_fMEU4lH5"
      }
    },
    {
      "cell_type": "code",
      "source": [
        "import json\n",
        "import pandas as pd\n",
        "with open('sample_data/dataset_67.json', 'r') as f:\n",
        "    data = json.load(f)\n",
        "df = pd.DataFrame(data)\n",
        "\" \".join(list(df['summary']))"
      ],
      "metadata": {
        "colab": {
          "base_uri": "https://localhost:8080/",
          "height": 122
        },
        "id": "oe36LPw0V2ly",
        "outputId": "523922a9-97b7-43e5-dfbf-750d88ee8e19"
      },
      "execution_count": 20,
      "outputs": [
        {
          "output_type": "execute_result",
          "data": {
            "text/plain": [
              "\"The call involves a brief exchange where one party instructs the other to check a message sent via WhatsApp. The conversation is focused on confirming the receipt of a message and requesting a model number. The call involves a discussion about a laptop issue and a request to make a call to a specific number. The conversation includes instructions on how to proceed with the call and mentions the use of a normal call instead of a WhatsApp call. The call involves a request for the customer to send a picture of a QR code related to a forgotten password issue. The technical support team plans to visit the customer's house after receiving the QR code. The call discusses the setup and configuration of a P2P device, including how to connect it using buttons and the necessary settings for proper operation. Instructions are given for resetting the devices and ensuring they are correctly aligned for network connectivity. The call involves a customer service interaction where the customer is facing issues with a software application. The representative guides the customer on how to resolve the issue by reinstalling the application and checking their login credentials. The call discusses issues related to playback and recording features, with a focus on troubleshooting and resolving these problems. The participants talk about the technical aspects of recording and saving files, and there is a mention of a specific number to be used for further assistance. The conversation ends with a plan to follow up on the issues discussed. The call involves a technical support discussion regarding a Doollrite camera. The customer is seeking assistance to enable night vision and configure the IP camera settings. The call involved a discussion about handling camera updates and timezone issues. There were technical difficulties with the cameras, and the participants were trying to resolve these issues. The conversation also touched on some IT-related concerns and troubleshooting steps. The call transcript is not in a recognizable language or format, making it difficult to extract meaningful information. It appears to be a mix of different languages and characters. The call primarily involved a discussion about a number that was supposed to be sent but was not. The conversation seemed to revolve around ensuring the correct number is communicated. The call transcript is largely unintelligible due to repeated and nonsensical text. It appears to be a mix of Hindi and some other language, but lacks coherent content. The transcript provided is not in a recognizable language or format, making it difficult to extract meaningful information. It appears to be a repeated sequence of words or characters. The call primarily discusses the management of temporary positions and the challenges associated with them. There is a focus on ensuring that these positions are filled efficiently and that any issues with the current system are addressed. The conversation also touches on updates and potential problems with the current processes. The call was with a technical support representative addressing an issue with a tool that was sent but not functioning as expected. The customer is experiencing problems with their camera not showing up, and there seems to be an internet-related issue as well. The call involves a discussion about an issue related to a camera, possibly involving a solution from Avnontech. The participants discuss checking and possibly replacing a part purchased from a specific vendor. The call primarily involved troubleshooting a technical issue related to a software or application interface. The participants discussed various options and settings to resolve the problem, including checking presets and video settings. The call ended with a suggestion to call back if the issue persists. The call involves a customer, Mahmood Shafan, seeking assistance from Nithish at Tech Solution regarding setting up motion detection on an NVR and camera system. Mahmood wants the system to send notifications and sound alerts when motion is detected, and he is inquiring if this feature is available with their current setup. The caller is inquiring about the NVR feature in a mobile application, specifically regarding the lack of email notifications for motion detection. The support representative explains that while mobile notifications are available, email notifications are not supported. The caller plans to install the mobile application and connect it to the NVR, seeking further assistance in a follow-up call. The call involves a discussion about a technical issue related to a mobile application. The speaker is trying to confirm some details and suggests checking the camera settings to resolve the issue. The customer is experiencing an issue with receiving notifications from an IP camera and NVR system when motion is detected. The support representative suggests using WhatsApp for better communication due to audio issues on the current call. The call involves a discussion about an NVR application and its usage. The speaker mentions working on MSDS 123 and addresses some concerns about the application. The transcript provided does not contain any meaningful conversation or context. The transcript provided is mostly gibberish and does not contain coherent information or context. It appears to be a series of repeated characters and words without any clear structure or meaning. The call involves a discussion about technical issues with an NVR system, specifically regarding email functionality and motion detection. The caller is advised to wait while the backend team investigates the issue, and there is a mention of different NVR models being used. The speaker discusses an issue with a room system that was previously set up by a boy who has now returned. The boy called the speaker today to discuss the situation. The transcript provided is repetitive and does not contain any meaningful content or context. It consists of the same phrase repeated multiple times. The call transcript is largely unintelligible due to repeated phrases and non-standard text. It appears to involve some discussion about communication and possibly project management or planning. The call involved troubleshooting network issues, specifically related to configuring IP addresses and DNS servers. The caller was guided on how to input alternate DNS settings and was advised to enable certain settings to resolve connectivity issues. A contact number was provided for further assistance if the problem persists. The call transcript provided contains only repeated greetings with no further conversation or context. The call involves a customer seeking technical support for an application named 'Easy C'. The customer is experiencing issues with logging in, as they encounter an error message related to 'insert, identic, spell'. The support representative is trying to assist by verifying registration details and suggesting a password reset. The speaker is sending some documents and is coordinating with a customer. They mention providing details to a specific number. The call involved a discussion about a delay in a delivery or task, with the speaker mentioning that they are waiting for something to arrive. The speaker also mentioned that they will call back later to follow up. The conversation revolves around the installation and connection of a dash camera in a vehicle. The speaker is seeking advice on how to connect the camera and mentions purchasing it from a store. The call involved a customer trying to set up a WiFi camera using the OCam Pro app. There was a language barrier, and the customer was put on hold while the representative attempted to resolve the issue by conferencing in another number for language support. The call involves a customer speaking with technical support about an issue with their device not connecting online. The support representative suggests changing the IP address to resolve the issue, and confirms the customer's contact number. The call involved a discussion about technical adjustments related to bit rate and camera resolution. There was also mention of coordinating with Abhishek and Roger for further actions. The conversation included some technical jargon and seemed to focus on resolving certain issues. The transcript provided is very limited and repetitive, consisting only of the phrase 'அல்லவா?' which translates to 'Isn't it?' in English. There is no substantial content to summarize. The call involved troubleshooting connectivity issues with a remote desktop application and a Wi-Fi camera. The participants discussed resetting the camera, changing IP settings, and using tools like Ultra Viewer and IPC batch tool to resolve the issues. The call ended with the exchange of an ID and password for further remote assistance. The transcript provided does not contain any recognizable content or context to summarize. The call primarily focused on troubleshooting and configuring camera settings. The participants discussed how to change modes and presets on the camera, and there was some confusion about the current settings and how to update them. The conversation also touched on the need for a demo and the successful update of the camera firmware. The call primarily discusses technical issues related to a device, including problems with night vision and pricing. The conversation also touches on the need for technical support and provides a support number for further assistance. The call transcript contains repeated greetings with no further conversation or information exchanged. The call primarily discusses technical issues related to a camera and a system referred to as 'नविर'. There are repeated mentions of starting and checking the system, but the conversation is fragmented and lacks clear resolution. The call involves a customer seeking technical support for connectivity issues with their device. The support agent suggests troubleshooting steps, including connecting the device to a different network to identify the problem. The conversation revolves around resolving the issue with the current network setup. The customer called technical support because they were unable to connect their camera to Wi-Fi. The support representative guided the customer through the process of connecting the camera by first ensuring the phone was connected to the network and then using the appropriate app to set up the camera connection. The call transcript contains repeated greetings with no further conversation or information exchanged. The call primarily focused on troubleshooting and configuring a camera system. The participants discussed various settings, including zoom and preset configurations, and addressed issues related to audio quality and volume control. They also mentioned sharing a video tutorial to assist with the setup process. The call primarily discusses technical issues related to setting up and troubleshooting laptops, including connecting to Wi-Fi and camera problems. There is also a mention of scheduling and timing issues related to some tasks. The conversation ends with a note about office closing times and a reminder about a meeting on Sunday. The transcript provided is not in a recognizable language or format, making it difficult to extract meaningful information. It appears to be a repeated sequence of characters without clear context. The caller, Nitish, is discussing an issue with a video that has been uploaded. He is seeking assistance on how to resolve the problem. The call transcript is mostly unintelligible, consisting of repeated characters and phrases. No meaningful conversation or information is discernible. The call transcript provided is not in a recognizable language or format, making it impossible to extract meaningful information. It appears to be repetitive and lacks coherent content. The call transcript is mostly repetitive and lacks clear context. It briefly mentions a car launch and some issues that have occurred. The call discusses technical issues related to a camera and its quality, which will be assessed at night. There is a mention of a product that needs to be prioritized, and a specific IBR number is discussed for some adjustments. The call involves a customer discussing issues with a WiFi-enabled camera with technical support. The customer reports recurring problems with the camera's prompt messages and seeks assistance. The support representative requests specific information, including photos and serial numbers, to diagnose the issue further. The call discusses issues with a 5MP camera in a device, focusing on its power and technical specifications. Suggestions are made to improve the device by changing the camera module and ensuring the design meets the required standards. The call involves a discussion about a security camera, specifically focusing on identifying the model number. The speaker is trying to locate the model number on the camera, which is mentioned to be on a sticker at the back or bottom of the device. The transcript provided is too brief and lacks sufficient context to generate a meaningful summary. It only contains the phrase 'Carlos gets M'. The call transcript provided is too brief and lacks substantive content. The call primarily involved the repetition of a phone number and the phrase 'अच्छा सर' multiple times. There was a brief mention of a name, 'मनिद दीजी', and a request to provide information. The call was brief and focused on addressing a specific issue. The participants discussed the problem and potential solutions. The call involves a discussion about technical issues related to a system and software. The participants are trying to resolve a problem with connecting a camera and sending photos via WhatsApp. The call discusses issues related to downloading a file or application. The speaker is seeking clarification on how the download process works and mentions the need for ongoing support. The call transcript provided is too brief and lacks substantive content. It consists only of greetings. The call involves a technical support discussion where the customer is trying to resolve an issue related to login and password configuration. The support representative guides the customer on how to change the password and requests the lot number of the camera for further assistance. The conversation involves a discussion about sending a photo and checking some details. One person is asked to send a photo, and the other will verify and get back with information. The transcript provided is not in a recognizable language or format, making it impossible to extract meaningful information. It appears to be repetitive and lacks coherent content.\""
            ],
            "application/vnd.google.colaboratory.intrinsic+json": {
              "type": "string"
            }
          },
          "metadata": {},
          "execution_count": 20
        }
      ]
    },
    {
      "cell_type": "code",
      "source": [
        "!pip install nltk"
      ],
      "metadata": {
        "id": "SHKE3f8zxK3S",
        "colab": {
          "base_uri": "https://localhost:8080/"
        },
        "outputId": "9e14de7f-e167-48d6-a77b-ac6b5bedf612"
      },
      "execution_count": 3,
      "outputs": [
        {
          "output_type": "stream",
          "name": "stdout",
          "text": [
            "Requirement already satisfied: nltk in /usr/local/lib/python3.11/dist-packages (3.9.1)\n",
            "Requirement already satisfied: click in /usr/local/lib/python3.11/dist-packages (from nltk) (8.2.0)\n",
            "Requirement already satisfied: joblib in /usr/local/lib/python3.11/dist-packages (from nltk) (1.5.0)\n",
            "Requirement already satisfied: regex>=2021.8.3 in /usr/local/lib/python3.11/dist-packages (from nltk) (2024.11.6)\n",
            "Requirement already satisfied: tqdm in /usr/local/lib/python3.11/dist-packages (from nltk) (4.67.1)\n"
          ]
        }
      ]
    },
    {
      "cell_type": "code",
      "source": [
        "import nltk"
      ],
      "metadata": {
        "id": "q1oLeu8j3vcc"
      },
      "execution_count": 3,
      "outputs": []
    },
    {
      "cell_type": "code",
      "source": [
        "nltk.download('punkt')\n",
        "nltk.download('punkt_tab')"
      ],
      "metadata": {
        "colab": {
          "base_uri": "https://localhost:8080/"
        },
        "id": "DbAlpFcPSiNa",
        "outputId": "710453d3-da50-4ee8-f975-c436533e6a5b"
      },
      "execution_count": 4,
      "outputs": [
        {
          "output_type": "stream",
          "name": "stderr",
          "text": [
            "[nltk_data] Downloading package punkt to /root/nltk_data...\n",
            "[nltk_data]   Package punkt is already up-to-date!\n",
            "[nltk_data] Downloading package punkt_tab to /root/nltk_data...\n",
            "[nltk_data]   Package punkt_tab is already up-to-date!\n"
          ]
        },
        {
          "output_type": "execute_result",
          "data": {
            "text/plain": [
              "True"
            ]
          },
          "metadata": {},
          "execution_count": 4
        }
      ]
    },
    {
      "cell_type": "markdown",
      "source": [],
      "metadata": {
        "id": "nJIxOK3RShvc"
      }
    },
    {
      "cell_type": "code",
      "source": [
        "from nltk.tokenize import word_tokenize\n",
        "\n",
        "def chunk_text(text, chunk_size=60, overlap=50):\n",
        "    tokens = word_tokenize(text)\n",
        "    chunks = []\n",
        "    start = 0\n",
        "    while start < len(tokens):\n",
        "        end = min(start + chunk_size, len(tokens))\n",
        "        chunk = tokens[start:end]\n",
        "        chunks.append(\" \".join(chunk))\n",
        "        if end == len(tokens):\n",
        "            break\n",
        "        start += chunk_size - overlap\n",
        "    return chunks\n",
        "\n",
        "# Example chunking+\n",
        "chunks = chunk_text(\" \".join(list(df['summary'])))\n",
        "print(f\"Generated {len(chunks)} chunks, each ~200 tokens.\")"
      ],
      "metadata": {
        "colab": {
          "base_uri": "https://localhost:8080/"
        },
        "id": "JLuEThRi3oRq",
        "outputId": "38db230f-cd26-4a7d-8556-26756dd5028e"
      },
      "execution_count": 21,
      "outputs": [
        {
          "output_type": "stream",
          "name": "stdout",
          "text": [
            "Generated 245 chunks, each ~200 tokens.\n"
          ]
        }
      ]
    },
    {
      "cell_type": "markdown",
      "source": [
        "### 3. Embedding\n",
        "Use a SentenceTransformer model (e.g., all-MiniLM-L6-v2) to turn each chunk into a 384-dimensional vector."
      ],
      "metadata": {
        "id": "aSKdgrRl4qAc"
      }
    },
    {
      "cell_type": "code",
      "source": [
        "from sentence_transformers import SentenceTransformer\n",
        "import numpy as np\n",
        "\n",
        "# Load SBERT model\n",
        "sbert_model = SentenceTransformer(\"all-MiniLM-L6-v2\")\n",
        "\n",
        "# Compute embeddings for chunks\n",
        "embeddings = sbert_model.encode(chunks, convert_to_numpy=True)\n",
        "print(\"Embeddings shape:\", embeddings.shape)"
      ],
      "metadata": {
        "colab": {
          "base_uri": "https://localhost:8080/"
        },
        "id": "KMgk20al3poT",
        "outputId": "667e4da2-d5a7-4440-b293-35d573009213"
      },
      "execution_count": 22,
      "outputs": [
        {
          "output_type": "stream",
          "name": "stdout",
          "text": [
            "Embeddings shape: (245, 384)\n"
          ]
        }
      ]
    },
    {
      "cell_type": "markdown",
      "source": [
        "### 4. Indexing\n",
        "Store embeddings in an Annoy index for fast k-NN similarity search."
      ],
      "metadata": {
        "id": "LAJDvkHD4uTZ"
      }
    },
    {
      "cell_type": "code",
      "source": [
        "!pip install annoy"
      ],
      "metadata": {
        "colab": {
          "base_uri": "https://localhost:8080/"
        },
        "id": "YyTRjK8D4Ipv",
        "outputId": "42bb7087-543d-4af7-e127-f60abb63f1da"
      },
      "execution_count": 10,
      "outputs": [
        {
          "output_type": "stream",
          "name": "stdout",
          "text": [
            "Collecting annoy\n",
            "  Downloading annoy-1.17.3.tar.gz (647 kB)\n",
            "\u001b[?25l     \u001b[90m━━━━━━━━━━━━━━━━━━━━━━━━━━━━━━━━━━━━━━━━\u001b[0m \u001b[32m0.0/647.5 kB\u001b[0m \u001b[31m?\u001b[0m eta \u001b[36m-:--:--\u001b[0m\r\u001b[2K     \u001b[91m━━━━━━━━━━━━━━━━━━━━━━━━━━━━━━━━━━━━━\u001b[0m\u001b[91m╸\u001b[0m \u001b[32m645.1/647.5 kB\u001b[0m \u001b[31m21.9 MB/s\u001b[0m eta \u001b[36m0:00:01\u001b[0m\r\u001b[2K     \u001b[90m━━━━━━━━━━━━━━━━━━━━━━━━━━━━━━━━━━━━━━\u001b[0m \u001b[32m647.5/647.5 kB\u001b[0m \u001b[31m15.4 MB/s\u001b[0m eta \u001b[36m0:00:00\u001b[0m\n",
            "\u001b[?25h  Preparing metadata (setup.py) ... \u001b[?25l\u001b[?25hdone\n",
            "Building wheels for collected packages: annoy\n",
            "  Building wheel for annoy (setup.py) ... \u001b[?25l\u001b[?25hdone\n",
            "  Created wheel for annoy: filename=annoy-1.17.3-cp311-cp311-linux_x86_64.whl size=553322 sha256=207807182391f3d905aba08f15563bf33845ddd2ee22cde85b6be380152d81fb\n",
            "  Stored in directory: /root/.cache/pip/wheels/33/e5/58/0a3e34b92bedf09b4c57e37a63ff395ade6f6c1099ba59877c\n",
            "Successfully built annoy\n",
            "Installing collected packages: annoy\n",
            "Successfully installed annoy-1.17.3\n"
          ]
        }
      ]
    },
    {
      "cell_type": "code",
      "source": [
        "from annoy import AnnoyIndex\n",
        "\n",
        "vector_dim = embeddings.shape[1]\n",
        "index = AnnoyIndex(vector_dim, metric='angular')\n",
        "\n",
        "# Build Annoy index\n",
        "for i, vec in enumerate(embeddings):\n",
        "    index.add_item(i, vec)\n",
        "index.build(50)  # 10 trees for indexing\n",
        "index.save(\"topic_index.ann\")\n",
        "\n",
        "print(\"Annoy index built and saved.\")"
      ],
      "metadata": {
        "colab": {
          "base_uri": "https://localhost:8080/"
        },
        "id": "lZRDhaAw346f",
        "outputId": "124c5cf2-018e-43ee-ede0-9437094c31f8"
      },
      "execution_count": 23,
      "outputs": [
        {
          "output_type": "stream",
          "name": "stdout",
          "text": [
            "Annoy index built and saved.\n"
          ]
        }
      ]
    },
    {
      "cell_type": "markdown",
      "source": [
        "## Phase 2: Query Execution"
      ],
      "metadata": {
        "id": "sgXca8Xu43V2"
      }
    },
    {
      "cell_type": "markdown",
      "source": [
        "When a user asks a query, embed the query and retrieve top-k similar chunks from the index."
      ],
      "metadata": {
        "id": "Lfy7I89j44n5"
      }
    },
    {
      "cell_type": "code",
      "source": [
        "# Load index and embeddings\n",
        "index = AnnoyIndex(vector_dim, metric='angular')\n",
        "index.load(\"topic_index.ann\")\n",
        "\n",
        "# Example query\n",
        "query = \"send your camera configuration\"\n",
        "\n",
        "# Embed query\n",
        "query_vec = sbert_model.encode([query], convert_to_numpy=True)[0]\n",
        "\n",
        "# Retrieve top 10 chunks\n",
        "k = 10\n",
        "ids, distances = index.get_nns_by_vector(query_vec, k, include_distances=True)\n",
        "\n",
        "print(\"Top matched chunks:\")\n",
        "for idx, dist in zip(ids, distances):\n",
        "    print(f\"Chunk #{idx} (distance: {dist:.4f}):\")\n",
        "    print(chunks[idx])\n",
        "    print(\"---\")"
      ],
      "metadata": {
        "colab": {
          "base_uri": "https://localhost:8080/"
        },
        "id": "8-AAHokq4G0v",
        "outputId": "cfaa1ae5-974f-4067-9606-9236ee528294"
      },
      "execution_count": 25,
      "outputs": [
        {
          "output_type": "stream",
          "name": "stdout",
          "text": [
            "Top matched chunks:\n",
            "Chunk #152 (distance: 0.9348):\n",
            "on troubleshooting and configuring camera settings . The participants discussed how to change modes and presets on the camera , and there was some confusion about the current settings and how to update them . The conversation also touched on the need for a demo and the successful update of the camera firmware . The call primarily discusses technical issues\n",
            "---\n",
            "Chunk #153 (distance: 0.9616):\n",
            "how to change modes and presets on the camera , and there was some confusion about the current settings and how to update them . The conversation also touched on the need for a demo and the successful update of the camera firmware . The call primarily discusses technical issues related to a device , including problems with night vision\n",
            "---\n",
            "Chunk #28 (distance: 0.9717):\n",
            "camera . The customer is seeking assistance to enable night vision and configure the IP camera settings . The call involved a discussion about handling camera updates and timezone issues . There were technical difficulties with the cameras , and the participants were trying to resolve these issues . The conversation also touched on some IT-related concerns and troubleshooting steps\n",
            "---\n",
            "Chunk #205 (distance: 0.9907):\n",
            "that needs to be prioritized , and a specific IBR number is discussed for some adjustments . The call involves a customer discussing issues with a WiFi-enabled camera with technical support . The customer reports recurring problems with the camera 's prompt messages and seeks assistance . The support representative requests specific information , including photos and serial numbers ,\n",
            "---\n",
            "Chunk #209 (distance: 1.0082):\n",
            "'s prompt messages and seeks assistance . The support representative requests specific information , including photos and serial numbers , to diagnose the issue further . The call discusses issues with a 5MP camera in a device , focusing on its power and technical specifications . Suggestions are made to improve the device by changing the camera module and ensuring\n",
            "---\n",
            "Chunk #125 (distance: 1.0107):\n",
            "dash camera in a vehicle . The speaker is seeking advice on how to connect the camera and mentions purchasing it from a store . The call involved a customer trying to set up a WiFi camera using the OCam Pro app . There was a language barrier , and the customer was put on hold while the representative attempted\n",
            "---\n",
            "Chunk #206 (distance: 1.0156):\n",
            "number is discussed for some adjustments . The call involves a customer discussing issues with a WiFi-enabled camera with technical support . The customer reports recurring problems with the camera 's prompt messages and seeks assistance . The support representative requests specific information , including photos and serial numbers , to diagnose the issue further . The call discusses issues\n",
            "---\n",
            "Chunk #240 (distance: 1.0168):\n",
            "issue related to login and password configuration . The support representative guides the customer on how to change the password and requests the lot number of the camera for further assistance . The conversation involves a discussion about sending a photo and checking some details . One person is asked to send a photo , and the other will verify\n",
            "---\n",
            "Chunk #175 (distance: 1.0202):\n",
            "to the network and then using the appropriate app to set up the camera connection . The call transcript contains repeated greetings with no further conversation or information exchanged . The call primarily focused on troubleshooting and configuring a camera system . The participants discussed various settings , including zoom and preset configurations , and addressed issues related to audio\n",
            "---\n",
            "Chunk #207 (distance: 1.0275):\n",
            "a customer discussing issues with a WiFi-enabled camera with technical support . The customer reports recurring problems with the camera 's prompt messages and seeks assistance . The support representative requests specific information , including photos and serial numbers , to diagnose the issue further . The call discusses issues with a 5MP camera in a device , focusing on\n",
            "---\n"
          ]
        }
      ]
    },
    {
      "cell_type": "code",
      "source": [],
      "metadata": {
        "id": "_p2_5BrJ4S4A"
      },
      "execution_count": null,
      "outputs": []
    }
  ]
}